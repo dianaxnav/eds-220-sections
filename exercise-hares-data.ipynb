{
 "cells": [
  {
   "cell_type": "markdown",
   "id": "eda67347-d0b3-4083-bc3f-a72f10af0102",
   "metadata": {},
   "source": [
    "## Archive Exploration\n",
    "\n",
    "In your notebook: use a markdown cell to add a brief description of the dataset, including a citation, date of access, and a link to the archive.\n",
    "\n",
    "This data consist of snowshoe hares density and their declining population from 1999-2002. Capture and recapture studies have been conducted in 5 locales in the Tanana valley, from Tok in the east to Clear in the west. \n",
    "\n",
    "\n",
    "Kielland, K., F.S. Chapin, R.W. Ruess, and Bonanza Creek LTER. 2017. Snowshoe hare physical data in Bonanza Creek Experimental Forest: 1999-Present ver 22. Environmental Data Initiative. https://doi.org/10.6073/pasta/03dce4856d79b91557d8e6ce2cbcdc14 (Accessed 2023-10-19).\n",
    "\n",
    "\n",
    "\n",
    "https://portal.edirepository.org/nis/metadataviewer?packageid=knb-lter-bnz.55.22"
   ]
  },
  {
   "cell_type": "markdown",
   "id": "842baeb7-670b-4b50-8cac-5c8c9dfa7430",
   "metadata": {},
   "source": [
    "## Adding an image\n",
    "\n",
    "![image description](https://upload.wikimedia.org/wikipedia/commons/thumb/4/47/Snowshoe_Hare_%286990917710%29.jpg/856px-Snowshoe_Hare_%286990917710%29.jpg?20131114045343)\n",
    "\n",
    "This image, originally posted to Flickr, was reviewed on 14 November 2013 by the administrator or reviewer File Upload Bot (Magnus Manske), who confirmed that it was available on Flickr under the stated license on that date."
   ]
  },
  {
   "cell_type": "code",
   "execution_count": null,
   "id": "74277b9e-4dfd-4452-82ec-1b0603d19498",
   "metadata": {},
   "outputs": [],
   "source": []
  }
 ],
 "metadata": {
  "kernelspec": {
   "display_name": "Anaconda 3 (Base)",
   "language": "python",
   "name": "base"
  },
  "language_info": {
   "codemirror_mode": {
    "name": "ipython",
    "version": 3
   },
   "file_extension": ".py",
   "mimetype": "text/x-python",
   "name": "python",
   "nbconvert_exporter": "python",
   "pygments_lexer": "ipython3",
   "version": "3.9.13"
  }
 },
 "nbformat": 4,
 "nbformat_minor": 5
}
