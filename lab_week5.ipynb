{
 "cells": [
  {
   "cell_type": "code",
   "execution_count": 31,
   "id": "d288bd79-54d0-4e29-9895-92bbf32b98d5",
   "metadata": {
    "tags": []
   },
   "outputs": [
    {
     "data": {
      "text/plain": [
       "time          object\n",
       "latitude     float64\n",
       "longitude    float64\n",
       "depth        float64\n",
       "mag          float64\n",
       "id            object\n",
       "place         object\n",
       "type          object\n",
       "dtype: object"
      ]
     },
     "execution_count": 31,
     "metadata": {},
     "output_type": "execute_result"
    }
   ],
   "source": [
    "import pandas as pd\n",
    "import geopandas as gpd\n",
    "import matplotlib.pyplot as plt\n",
    "\n",
    "#read csv file\n",
    "raw_eqk = pd.read_csv(\"https://raw.githubusercontent.com/carmengg/eds220-hwk-1/main/data/earthquake_data.csv\")\n",
    "\n",
    "\n",
    "#do some prelim data exploration\n",
    "raw_eqk.head()\n",
    "\n",
    "raw_eqk.info\n",
    "\n",
    "raw_eqk.dtypes"
   ]
  },
  {
   "cell_type": "code",
   "execution_count": 32,
   "id": "bb91a5a5-6888-429e-ba07-7804d5a6c89f",
   "metadata": {
    "tags": []
   },
   "outputs": [],
   "source": [
    "#check unique values for type of earthquake\n",
    "\n",
    "raw_eqk.type.unique\n",
    "\n",
    "\n",
    "#Select only data with with type equal to ‘eartquake’ and magnitude greater than or equal to \n",
    "\n",
    "eqk = raw_eqk[(raw_eqk['type'] == 'earthquake') & (raw_eqk['mag'] >= 6.5)]"
   ]
  },
  {
   "cell_type": "code",
   "execution_count": 34,
   "id": "4cdb6d25-7c8c-4e41-be00-55342986047b",
   "metadata": {
    "tags": []
   },
   "outputs": [
    {
     "data": {
      "text/html": [
       "<div>\n",
       "<style scoped>\n",
       "    .dataframe tbody tr th:only-of-type {\n",
       "        vertical-align: middle;\n",
       "    }\n",
       "\n",
       "    .dataframe tbody tr th {\n",
       "        vertical-align: top;\n",
       "    }\n",
       "\n",
       "    .dataframe thead th {\n",
       "        text-align: right;\n",
       "    }\n",
       "</style>\n",
       "<table border=\"1\" class=\"dataframe\">\n",
       "  <thead>\n",
       "    <tr style=\"text-align: right;\">\n",
       "      <th></th>\n",
       "      <th>time</th>\n",
       "      <th>latitude</th>\n",
       "      <th>longitude</th>\n",
       "      <th>depth</th>\n",
       "      <th>mag</th>\n",
       "      <th>id</th>\n",
       "      <th>place</th>\n",
       "      <th>type</th>\n",
       "      <th>geometry</th>\n",
       "    </tr>\n",
       "  </thead>\n",
       "  <tbody>\n",
       "    <tr>\n",
       "      <th>9062</th>\n",
       "      <td>2014-01-01 16:03:29.000</td>\n",
       "      <td>-13.8633</td>\n",
       "      <td>167.2490</td>\n",
       "      <td>187.00</td>\n",
       "      <td>6.5</td>\n",
       "      <td>usc000lvb5</td>\n",
       "      <td>32km W of Sola, Vanuatu</td>\n",
       "      <td>earthquake</td>\n",
       "      <td>POINT (167.24900 -13.86330)</td>\n",
       "    </tr>\n",
       "    <tr>\n",
       "      <th>12142</th>\n",
       "      <td>2014-02-18 09:27:13.120</td>\n",
       "      <td>14.6682</td>\n",
       "      <td>-58.9272</td>\n",
       "      <td>14.83</td>\n",
       "      <td>6.5</td>\n",
       "      <td>usc000mskt</td>\n",
       "      <td>172km NNE of Bathsheba, Barbados</td>\n",
       "      <td>earthquake</td>\n",
       "      <td>POINT (-58.92720 14.66820)</td>\n",
       "    </tr>\n",
       "    <tr>\n",
       "      <th>14025</th>\n",
       "      <td>2014-02-12 09:19:49.060</td>\n",
       "      <td>35.9053</td>\n",
       "      <td>82.5864</td>\n",
       "      <td>10.00</td>\n",
       "      <td>6.9</td>\n",
       "      <td>usc000mnvj</td>\n",
       "      <td>272km ESE of Hotan, China</td>\n",
       "      <td>earthquake</td>\n",
       "      <td>POINT (82.58640 35.90530)</td>\n",
       "    </tr>\n",
       "    <tr>\n",
       "      <th>15979</th>\n",
       "      <td>2014-02-07 08:40:13.550</td>\n",
       "      <td>-15.0691</td>\n",
       "      <td>167.3721</td>\n",
       "      <td>122.00</td>\n",
       "      <td>6.5</td>\n",
       "      <td>usc000mjye</td>\n",
       "      <td>34km E of Port-Olry, Vanuatu</td>\n",
       "      <td>earthquake</td>\n",
       "      <td>POINT (167.37210 -15.06910)</td>\n",
       "    </tr>\n",
       "    <tr>\n",
       "      <th>17606</th>\n",
       "      <td>2014-02-02 09:26:37.820</td>\n",
       "      <td>-32.9076</td>\n",
       "      <td>-177.8806</td>\n",
       "      <td>44.26</td>\n",
       "      <td>6.5</td>\n",
       "      <td>usc000mfm0</td>\n",
       "      <td>189km SSE of L'Esperance Rock, New Zealand</td>\n",
       "      <td>earthquake</td>\n",
       "      <td>POINT (-177.88060 -32.90760)</td>\n",
       "    </tr>\n",
       "  </tbody>\n",
       "</table>\n",
       "</div>"
      ],
      "text/plain": [
       "                          time  latitude  longitude   depth  mag          id  \\\n",
       "9062   2014-01-01 16:03:29.000  -13.8633   167.2490  187.00  6.5  usc000lvb5   \n",
       "12142  2014-02-18 09:27:13.120   14.6682   -58.9272   14.83  6.5  usc000mskt   \n",
       "14025  2014-02-12 09:19:49.060   35.9053    82.5864   10.00  6.9  usc000mnvj   \n",
       "15979  2014-02-07 08:40:13.550  -15.0691   167.3721  122.00  6.5  usc000mjye   \n",
       "17606  2014-02-02 09:26:37.820  -32.9076  -177.8806   44.26  6.5  usc000mfm0   \n",
       "\n",
       "                                            place        type  \\\n",
       "9062                      32km W of Sola, Vanuatu  earthquake   \n",
       "12142            172km NNE of Bathsheba, Barbados  earthquake   \n",
       "14025                   272km ESE of Hotan, China  earthquake   \n",
       "15979                34km E of Port-Olry, Vanuatu  earthquake   \n",
       "17606  189km SSE of L'Esperance Rock, New Zealand  earthquake   \n",
       "\n",
       "                           geometry  \n",
       "9062    POINT (167.24900 -13.86330)  \n",
       "12142    POINT (-58.92720 14.66820)  \n",
       "14025     POINT (82.58640 35.90530)  \n",
       "15979   POINT (167.37210 -15.06910)  \n",
       "17606  POINT (-177.88060 -32.90760)  "
      ]
     },
     "execution_count": 34,
     "metadata": {},
     "output_type": "execute_result"
    }
   ],
   "source": [
    "# Overwrite eqk dataframe as a geopandas.GeoDataFrame. HINT: find the CRS of the dataset by looking at the metadata.\n",
    "\n",
    "eqk = gpd.GeoDataFrame(eqk, # data\n",
    "                                    # specify geometry column\n",
    "                                    geometry=gpd.points_from_xy(eqk.longitude, \n",
    "                                             eqk.latitude),\n",
    "                                    # specify CRS\n",
    "                                    crs='EPSG:4326'\n",
    "                    )\n",
    "\n",
    "eqk.head()"
   ]
  },
  {
   "cell_type": "code",
   "execution_count": 35,
   "id": "c74883b2-f404-4f4f-9fb5-f9c89934f7b2",
   "metadata": {
    "tags": []
   },
   "outputs": [
    {
     "data": {
      "text/plain": [
       "<AxesSubplot:>"
      ]
     },
     "execution_count": 35,
     "metadata": {},
     "output_type": "execute_result"
    },
    {
     "data": {
      "image/png": "[encoded data removed]",
      "text/plain": [
       "<Figure size 640x480 with 1 Axes>"
      ]
     },
     "metadata": {},
     "output_type": "display_data"
    }
   ],
   "source": [
    "#make a simple plot of eqk \n",
    "\n",
    "eqk.plot()"
   ]
  },
  {
   "cell_type": "code",
   "execution_count": 36,
   "id": "0b97cf92-1816-435c-9a6f-d1c7f93e3959",
   "metadata": {
    "tags": []
   },
   "outputs": [
    {
     "data": {
      "text/html": [
       "<div>\n",
       "<style scoped>\n",
       "    .dataframe tbody tr th:only-of-type {\n",
       "        vertical-align: middle;\n",
       "    }\n",
       "\n",
       "    .dataframe tbody tr th {\n",
       "        vertical-align: top;\n",
       "    }\n",
       "\n",
       "    .dataframe thead th {\n",
       "        text-align: right;\n",
       "    }\n",
       "</style>\n",
       "<table border=\"1\" class=\"dataframe\">\n",
       "  <thead>\n",
       "    <tr style=\"text-align: right;\">\n",
       "      <th></th>\n",
       "      <th>pop_est</th>\n",
       "      <th>continent</th>\n",
       "      <th>name</th>\n",
       "      <th>iso_a3</th>\n",
       "      <th>gdp_md_est</th>\n",
       "      <th>geometry</th>\n",
       "    </tr>\n",
       "  </thead>\n",
       "  <tbody>\n",
       "    <tr>\n",
       "      <th>0</th>\n",
       "      <td>889953.0</td>\n",
       "      <td>Oceania</td>\n",
       "      <td>Fiji</td>\n",
       "      <td>FJI</td>\n",
       "      <td>5496</td>\n",
       "      <td>MULTIPOLYGON (((180.00000 -16.06713, 180.00000...</td>\n",
       "    </tr>\n",
       "    <tr>\n",
       "      <th>1</th>\n",
       "      <td>58005463.0</td>\n",
       "      <td>Africa</td>\n",
       "      <td>Tanzania</td>\n",
       "      <td>TZA</td>\n",
       "      <td>63177</td>\n",
       "      <td>POLYGON ((33.90371 -0.95000, 34.07262 -1.05982...</td>\n",
       "    </tr>\n",
       "    <tr>\n",
       "      <th>2</th>\n",
       "      <td>603253.0</td>\n",
       "      <td>Africa</td>\n",
       "      <td>W. Sahara</td>\n",
       "      <td>ESH</td>\n",
       "      <td>907</td>\n",
       "      <td>POLYGON ((-8.66559 27.65643, -8.66512 27.58948...</td>\n",
       "    </tr>\n",
       "    <tr>\n",
       "      <th>3</th>\n",
       "      <td>37589262.0</td>\n",
       "      <td>North America</td>\n",
       "      <td>Canada</td>\n",
       "      <td>CAN</td>\n",
       "      <td>1736425</td>\n",
       "      <td>MULTIPOLYGON (((-122.84000 49.00000, -122.9742...</td>\n",
       "    </tr>\n",
       "    <tr>\n",
       "      <th>4</th>\n",
       "      <td>328239523.0</td>\n",
       "      <td>North America</td>\n",
       "      <td>United States of America</td>\n",
       "      <td>USA</td>\n",
       "      <td>21433226</td>\n",
       "      <td>MULTIPOLYGON (((-122.84000 49.00000, -120.0000...</td>\n",
       "    </tr>\n",
       "    <tr>\n",
       "      <th>...</th>\n",
       "      <td>...</td>\n",
       "      <td>...</td>\n",
       "      <td>...</td>\n",
       "      <td>...</td>\n",
       "      <td>...</td>\n",
       "      <td>...</td>\n",
       "    </tr>\n",
       "    <tr>\n",
       "      <th>172</th>\n",
       "      <td>6944975.0</td>\n",
       "      <td>Europe</td>\n",
       "      <td>Serbia</td>\n",
       "      <td>SRB</td>\n",
       "      <td>51475</td>\n",
       "      <td>POLYGON ((18.82982 45.90887, 18.82984 45.90888...</td>\n",
       "    </tr>\n",
       "    <tr>\n",
       "      <th>173</th>\n",
       "      <td>622137.0</td>\n",
       "      <td>Europe</td>\n",
       "      <td>Montenegro</td>\n",
       "      <td>MNE</td>\n",
       "      <td>5542</td>\n",
       "      <td>POLYGON ((20.07070 42.58863, 19.80161 42.50009...</td>\n",
       "    </tr>\n",
       "    <tr>\n",
       "      <th>174</th>\n",
       "      <td>1794248.0</td>\n",
       "      <td>Europe</td>\n",
       "      <td>Kosovo</td>\n",
       "      <td>-99</td>\n",
       "      <td>7926</td>\n",
       "      <td>POLYGON ((20.59025 41.85541, 20.52295 42.21787...</td>\n",
       "    </tr>\n",
       "    <tr>\n",
       "      <th>175</th>\n",
       "      <td>1394973.0</td>\n",
       "      <td>North America</td>\n",
       "      <td>Trinidad and Tobago</td>\n",
       "      <td>TTO</td>\n",
       "      <td>24269</td>\n",
       "      <td>POLYGON ((-61.68000 10.76000, -61.10500 10.890...</td>\n",
       "    </tr>\n",
       "    <tr>\n",
       "      <th>176</th>\n",
       "      <td>11062113.0</td>\n",
       "      <td>Africa</td>\n",
       "      <td>S. Sudan</td>\n",
       "      <td>SSD</td>\n",
       "      <td>11998</td>\n",
       "      <td>POLYGON ((30.83385 3.50917, 29.95350 4.17370, ...</td>\n",
       "    </tr>\n",
       "  </tbody>\n",
       "</table>\n",
       "<p>177 rows × 6 columns</p>\n",
       "</div>"
      ],
      "text/plain": [
       "         pop_est      continent                      name iso_a3  gdp_md_est  \\\n",
       "0       889953.0        Oceania                      Fiji    FJI        5496   \n",
       "1     58005463.0         Africa                  Tanzania    TZA       63177   \n",
       "2       603253.0         Africa                 W. Sahara    ESH         907   \n",
       "3     37589262.0  North America                    Canada    CAN     1736425   \n",
       "4    328239523.0  North America  United States of America    USA    21433226   \n",
       "..           ...            ...                       ...    ...         ...   \n",
       "172    6944975.0         Europe                    Serbia    SRB       51475   \n",
       "173     622137.0         Europe                Montenegro    MNE        5542   \n",
       "174    1794248.0         Europe                    Kosovo    -99        7926   \n",
       "175    1394973.0  North America       Trinidad and Tobago    TTO       24269   \n",
       "176   11062113.0         Africa                  S. Sudan    SSD       11998   \n",
       "\n",
       "                                              geometry  \n",
       "0    MULTIPOLYGON (((180.00000 -16.06713, 180.00000...  \n",
       "1    POLYGON ((33.90371 -0.95000, 34.07262 -1.05982...  \n",
       "2    POLYGON ((-8.66559 27.65643, -8.66512 27.58948...  \n",
       "3    MULTIPOLYGON (((-122.84000 49.00000, -122.9742...  \n",
       "4    MULTIPOLYGON (((-122.84000 49.00000, -120.0000...  \n",
       "..                                                 ...  \n",
       "172  POLYGON ((18.82982 45.90887, 18.82984 45.90888...  \n",
       "173  POLYGON ((20.07070 42.58863, 19.80161 42.50009...  \n",
       "174  POLYGON ((20.59025 41.85541, 20.52295 42.21787...  \n",
       "175  POLYGON ((-61.68000 10.76000, -61.10500 10.890...  \n",
       "176  POLYGON ((30.83385 3.50917, 29.95350 4.17370, ...  \n",
       "\n",
       "[177 rows x 6 columns]"
      ]
     },
     "execution_count": 36,
     "metadata": {},
     "output_type": "execute_result"
    }
   ],
   "source": [
    "#run the following line \n",
    "worldmap = gpd.read_file(gpd.datasets.get_path(\"naturalearth_lowres\"))\n",
    "worldmap"
   ]
  },
  {
   "cell_type": "code",
   "execution_count": 50,
   "id": "7fbabd7c-f813-496e-911b-cea285691721",
   "metadata": {
    "tags": []
   },
   "outputs": [
    {
     "data": {
      "image/png": "[encoded data removed]",
      "text/plain": [
       "<Figure size 640x480 with 2 Axes>"
      ]
     },
     "metadata": {},
     "output_type": "display_data"
    }
   ],
   "source": [
    "#Create a map of the earthquales of magnitude greater equal to 6.5 across the world in 2014.\n",
    "#Color the points by the magnitude. This is an example of how it could look like:\n",
    "fig, ax = plt.subplots()\n",
    "\n",
    "ax.set_title(\"Eartquakes of magnitude geq 6.5 in 2014\")\n",
    "\n",
    "# add states \n",
    "worldmap.plot(ax=ax,\n",
    "            color='grey',\n",
    "            edgecolor = 'grey')\n",
    "\n",
    "# add electric power plants colored by energy source\n",
    "eqk.plot(ax=ax, \n",
    "                  column='mag', # color points according to primsource value\n",
    "                  legend=True,    # add legend\n",
    "                  markersize = 10, # adjust point size\n",
    "                  cmap='Reds', # this color map has 20 different colors\n",
    "                  alpha=1)\n",
    "\n",
    "plt.show()"
   ]
  }
 ],
 "metadata": {
  "kernelspec": {
   "display_name": "Anaconda 3 (Base)",
   "language": "python",
   "name": "base"
  },
  "language_info": {
   "codemirror_mode": {
    "name": "ipython",
    "version": 3
   },
   "file_extension": ".py",
   "mimetype": "text/x-python",
   "name": "python",
   "nbconvert_exporter": "python",
   "pygments_lexer": "ipython3",
   "version": "3.9.13"
  }
 },
 "nbformat": 4,
 "nbformat_minor": 5
}
